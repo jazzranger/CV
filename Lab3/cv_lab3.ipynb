{
 "cells": [
  {
   "cell_type": "code",
   "execution_count": 26,
   "id": "16c0e9b4",
   "metadata": {},
   "outputs": [],
   "source": [
    "from torchvision.models import resnet50, ResNet50_Weights, alexnet, AlexNet_Weights, EfficientNet_B5_Weights, efficientnet_b5\n",
    "from torchvision.io import read_image\n",
    "import numpy as np"
   ]
  },
  {
   "cell_type": "code",
   "execution_count": 39,
   "id": "00820a74",
   "metadata": {},
   "outputs": [
    {
     "name": "stdout",
     "output_type": "stream",
     "text": [
      "ResNet50 top 1 acccuracy: 0.98\n",
      "ResNet50 top 5 acccuracy: 1.0\n",
      "AlexNet top 1 acccuracy: 0.86\n",
      "AlexNet top 5 acccuracy: 1.0\n",
      "EfficientNet_B5 top 1 acccuracy: 1.0\n",
      "EfficientNet_B5 top 5 acccuracy: 1.0\n"
     ]
    }
   ],
   "source": [
    "models = {\n",
    "    \"ResNet50\": (resnet50, ResNet50_Weights),\n",
    "    \"AlexNet\": (alexnet, AlexNet_Weights),\n",
    "    \"EfficientNet_B5\": (efficientnet_b5, EfficientNet_B5_Weights)\n",
    "}\n",
    "imgs_num = 50\n",
    "req_class_id = 208 # Labrador retriever\n",
    "\n",
    "for name, (model, weights) in models.items():\n",
    "    top1 = 0\n",
    "    top5 = 0\n",
    "    \n",
    "    weights = weights.IMAGENET1K_V1\n",
    "    model = model(weights=weights)\n",
    "    model.eval()\n",
    "\n",
    "    # Initialize the inference transforms\n",
    "    preprocess = weights.transforms()\n",
    "    for img_num in range(1, imgs_num+1):\n",
    "        img = read_image(f\"labrador_dataset/{img_num}.jpg\")\n",
    "        # Apply inference preprocessing transforms\n",
    "        batch = preprocess(img).unsqueeze(0)\n",
    "\n",
    "        # Use the model and print the predicted category\n",
    "        prediction = model(batch).squeeze(0).softmax(0)\n",
    "        \n",
    "        top_1_class = prediction.argmax().item()\n",
    "        top_5_classes = prediction.topk(5)\n",
    "        if top_1_class == req_class_id:\n",
    "            top1 += 1.0\n",
    "        if req_class_id in top_5_classes.indices:\n",
    "            top5 += 1.0\n",
    "\n",
    "    print(f\"{name} top 1 acccuracy: {top1/img_num}\")\n",
    "    print(f\"{name} top 5 acccuracy: {top5/img_num}\")"
   ]
  },
  {
   "cell_type": "code",
   "execution_count": null,
   "id": "4738bc48",
   "metadata": {},
   "outputs": [],
   "source": []
  }
 ],
 "metadata": {
  "kernelspec": {
   "display_name": "Python 3 (ipykernel)",
   "language": "python",
   "name": "python3"
  },
  "language_info": {
   "codemirror_mode": {
    "name": "ipython",
    "version": 3
   },
   "file_extension": ".py",
   "mimetype": "text/x-python",
   "name": "python",
   "nbconvert_exporter": "python",
   "pygments_lexer": "ipython3",
   "version": "3.9.12"
  }
 },
 "nbformat": 4,
 "nbformat_minor": 5
}
